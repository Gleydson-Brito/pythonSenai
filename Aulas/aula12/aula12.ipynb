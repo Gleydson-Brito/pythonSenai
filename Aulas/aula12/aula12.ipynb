{
 "cells": [
  {
   "cell_type": "markdown",
   "metadata": {},
   "source": [
    "# Dicionário\n",
    "\n",
    "É um conjunto de chaves e valores que distiguem um objeto. Estas chaes nós chamamos de KEYS e seu valores de VALUES.\n",
    "É um tipo especial de variável python identificada pelas {}"
   ]
  },
  {
   "cell_type": "code",
   "execution_count": 1,
   "metadata": {},
   "outputs": [
    {
     "name": "stdout",
     "output_type": "stream",
     "text": [
      "{'nome': 'Gleydson', 'idade': 43, 'cidade': 'Macapá'}\n"
     ]
    }
   ],
   "source": [
    "pessoa = {\n",
    "    'nome' : 'Gleydson',\n",
    "    'idade' : 43,\n",
    "    'cidade' : 'Macapá'\n",
    "}\n",
    "\n",
    "print(pessoa)"
   ]
  },
  {
   "cell_type": "code",
   "execution_count": 4,
   "metadata": {},
   "outputs": [
    {
     "name": "stdout",
     "output_type": "stream",
     "text": [
      "dict_keys(['nome', 'idade', 'cidade'])\n",
      "dict_values(['Gleydson', 43, 'Macapá'])\n"
     ]
    }
   ],
   "source": [
    "# Método KEYS () Aqui eu pego todas as chaves de um dicionário\n",
    "pessoa.keys()\n",
    "print(pessoa.keys())\n",
    "\n",
    "# Método VALUES () Aqui eu pego todos os valores de um dicionário\n",
    "pessoa.values()\n",
    "print(pessoa.values())"
   ]
  },
  {
   "cell_type": "code",
   "execution_count": 5,
   "metadata": {},
   "outputs": [
    {
     "data": {
      "text/plain": [
       "43"
      ]
     },
     "execution_count": 5,
     "metadata": {},
     "output_type": "execute_result"
    }
   ],
   "source": [
    "# Olhando valores específicos de um dicionário\n",
    "\n",
    "pessoa['idade']"
   ]
  },
  {
   "cell_type": "code",
   "execution_count": 6,
   "metadata": {},
   "outputs": [
    {
     "name": "stdout",
     "output_type": "stream",
     "text": [
      "{'nome': 'Gleydson', 'idade': 43, 'cidade': 'Macapá'}\n",
      "{'nome': 'Gleydson', 'idade': 43, 'cidade': 'Brasília'}\n"
     ]
    }
   ],
   "source": [
    "# Atribuindo um novo valor a uma chave\n",
    "print(pessoa)\n",
    "pessoa['cidade'] = 'Brasília'\n",
    "print(pessoa)"
   ]
  },
  {
   "cell_type": "code",
   "execution_count": 7,
   "metadata": {},
   "outputs": [
    {
     "name": "stdout",
     "output_type": "stream",
     "text": [
      "{'nome': 'Gleydson', 'idade': 43, 'cidade': 'Brasília', 'email': 'gleydsonwow@gmail.com'}\n"
     ]
    }
   ],
   "source": [
    "# Criar uma nova chave colocando entre colchetes []\n",
    "\n",
    "pessoa['email'] = 'gleydsonwow@gmail.com'\n",
    "print(pessoa)"
   ]
  },
  {
   "cell_type": "code",
   "execution_count": 8,
   "metadata": {},
   "outputs": [
    {
     "name": "stdout",
     "output_type": "stream",
     "text": [
      "{'nome': 'Gleydson', 'email': 'gleydsonwow@gmail.com'}\n"
     ]
    }
   ],
   "source": [
    "# Excluindo uma chave e seu valor\n",
    "del pessoa['idade']\n",
    "pessoa.pop('cidade')\n",
    "print(pessoa)"
   ]
  },
  {
   "cell_type": "code",
   "execution_count": 15,
   "metadata": {},
   "outputs": [
    {
     "name": "stdout",
     "output_type": "stream",
     "text": [
      "[{'nome': 'Daniel', 'cidade': 'Aguas Claras'}, {'nome': 'Marcos', 'cidade': 'Recanto'}, {'nome': 'Luana', 'cidade': 'Brasília'}, {'nome': 'Francineide', 'cidade': 'Ceilândia'}]\n",
      "{'nome': 'Daniel', 'cidade': 'Aguas Claras'}\n",
      "{'nome': 'Marcos', 'cidade': 'Recanto'}\n",
      "{'nome': 'Luana', 'cidade': 'Brasília'}\n",
      "{'nome': 'Francineide', 'cidade': 'Ceilândia'}\n",
      "0 {'nome': 'Daniel', 'cidade': 'Aguas Claras'}\n",
      "1 {'nome': 'Marcos', 'cidade': 'Recanto'}\n",
      "2 {'nome': 'Luana', 'cidade': 'Brasília'}\n",
      "3 {'nome': 'Francineide', 'cidade': 'Ceilândia'}\n"
     ]
    }
   ],
   "source": [
    "alunos = [\n",
    "    {'nome': 'Daniel', 'cidade': 'Aguas Claras'},\n",
    "    {'nome': 'Marcos', 'cidade': 'Recanto'},\n",
    "    {'nome': 'Luana', 'cidade': 'Brasília'},\n",
    "    {'nome': 'Francineide', 'cidade': 'Ceilândia'}\n",
    "]\n",
    "\n",
    "print(alunos)\n",
    "\n",
    "for aluno in alunos:\n",
    "    print(aluno)\n",
    "\n",
    "for indice, aluno in enumerate(alunos):\n",
    "    print(indice, aluno)"
   ]
  },
  {
   "cell_type": "code",
   "execution_count": 16,
   "metadata": {},
   "outputs": [
    {
     "name": "stdout",
     "output_type": "stream",
     "text": [
      "{'nome': 'Luana', 'cidade': 'Brasília'}\n",
      "Brasília\n"
     ]
    }
   ],
   "source": [
    "# Vendo uma informação isolada de um dicionário\n",
    "\n",
    "print(alunos[2])\n",
    "\n",
    "print(alunos[2]['cidade'])"
   ]
  },
  {
   "cell_type": "code",
   "execution_count": null,
   "metadata": {},
   "outputs": [],
   "source": [
    "# Para alterar uma informação específica numa lista de dicionários\n",
    "\n",
    "print(alunos[2])\n",
    "alunos[2], "
   ]
  },
  {
   "cell_type": "code",
   "execution_count": 21,
   "metadata": {},
   "outputs": [
    {
     "name": "stdout",
     "output_type": "stream",
     "text": [
      "{'Daniel': {'matricula': '1234', 'escolaridade': 'superior'}, 'Luana': {'matricula': '5678', 'escolaridade': 'superior'}, 'Gilmar': {'matricula': '4321', 'escolaridade': 'superior'}, 'Felipe': {'matricula': '9874', 'escolaridade': 'medio'}}\n",
      "{'matricula': '9874', 'escolaridade': 'medio'}\n",
      "medio\n"
     ]
    }
   ],
   "source": [
    "alunos_dicionario = {\n",
    "    'Daniel': {'matricula': '1234', 'escolaridade' : 'superior'},\n",
    "    'Luana': {'matricula': '5678', 'escolaridade' : 'superior'},\n",
    "    'Gilmar': {'matricula': '4321', 'escolaridade' : 'superior'},\n",
    "    'Felipe': {'matricula': '9874', 'escolaridade' : 'medio'},\n",
    "}\n",
    "\n",
    "print(alunos_dicionario)\n",
    "\n",
    "print(alunos_dicionario['Felipe'])\n",
    "\n",
    "print(alunos_dicionario['Felipe']['escolaridade'])"
   ]
  }
 ],
 "metadata": {
  "interpreter": {
   "hash": "023695796a0456db28915f727eb64cb942055160ea749933aa044f2070f70f3a"
  },
  "kernelspec": {
   "display_name": "Python 3.12.5 64-bit (windows store)",
   "language": "python",
   "name": "python3"
  },
  "language_info": {
   "codemirror_mode": {
    "name": "ipython",
    "version": 3
   },
   "file_extension": ".py",
   "mimetype": "text/x-python",
   "name": "python",
   "nbconvert_exporter": "python",
   "pygments_lexer": "ipython3",
   "version": "3.12.5"
  },
  "orig_nbformat": 4
 },
 "nbformat": 4,
 "nbformat_minor": 2
}
