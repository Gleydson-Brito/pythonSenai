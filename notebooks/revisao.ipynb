{
 "cells": [
  {
   "cell_type": "markdown",
   "metadata": {},
   "source": [
    "# Relembrando variáveis\n",
    "\n",
    "tipos:\n",
    "\n",
    "    - int()\n",
    "    - str()\n",
    "    - float()\n",
    "    - bool()\n",
    "    - list()\n",
    "    - tuple()\n",
    "    - dict()"
   ]
  },
  {
   "cell_type": "code",
   "execution_count": 1,
   "metadata": {},
   "outputs": [],
   "source": [
    "numero = 1\n",
    "nome = 'Gleydson'\n",
    "numero_decimal = 10.9\n",
    "sera = True\n",
    "frutas = ['pêra', 'morango', 'uva']\n",
    "carros = ('gol', 'uno', 'fusca')\n",
    "pessoa = {'nome': 'Gleydson', 'idade': 43, 'altura': 1.76}\n",
    "\n",
    "\n"
   ]
  },
  {
   "cell_type": "markdown",
   "metadata": {},
   "source": [
    "## Condicionais\n",
    "\n",
    "- if / else\n",
    " - Usado para criar uma condição onde se algo não for assim, então é assim\n",
    "- match case\n",
    " - Usado para escolher uma opção"
   ]
  },
  {
   "cell_type": "code",
   "execution_count": 2,
   "metadata": {},
   "outputs": [
    {
     "name": "stdout",
     "output_type": "stream",
     "text": [
      "O nome está correto\n"
     ]
    }
   ],
   "source": [
    "if nome == 'Gleydson':\n",
    "    print('O nome está correto')\n",
    "else:\n",
    "    print('O nome na variável não é Gleydson')"
   ]
  },
  {
   "cell_type": "code",
   "execution_count": 3,
   "metadata": {},
   "outputs": [
    {
     "name": "stdout",
     "output_type": "stream",
     "text": [
      "opção 1\n"
     ]
    }
   ],
   "source": [
    "match numero:\n",
    "    case 1:\n",
    "        print('opção 1')\n",
    "    case 2:\n",
    "        print('opção 2')\n",
    "    case 3:\n",
    "        print('opção 3')\n",
    "    case 4:\n",
    "        print('opção 4')"
   ]
  },
  {
   "cell_type": "markdown",
   "metadata": {},
   "source": [
    "## Laços de repetição\n",
    "\n",
    "- for\n",
    "- while"
   ]
  },
  {
   "cell_type": "code",
   "execution_count": 6,
   "metadata": {},
   "outputs": [
    {
     "name": "stdout",
     "output_type": "stream",
     "text": [
      "O número é: 0\n",
      "O número é: 1\n",
      "O número é: 2\n",
      "O número é: 3\n",
      "O número é: 4\n"
     ]
    }
   ],
   "source": [
    "for numero in range(5):\n",
    "    print(f'O número é: {numero}')"
   ]
  },
  {
   "cell_type": "code",
   "execution_count": 8,
   "metadata": {},
   "outputs": [
    {
     "name": "stdout",
     "output_type": "stream",
     "text": [
      "O contador é: 0\n",
      "O contador é: 1\n",
      "O contador é: 2\n",
      "O contador é: 3\n",
      "O contador é: 4\n",
      "O contador é: 5\n"
     ]
    }
   ],
   "source": [
    "contador = 0\n",
    "while contador <=5:\n",
    "    print(f'O contador é: {contador}')\n",
    "    contador += 1"
   ]
  },
  {
   "cell_type": "markdown",
   "metadata": {},
   "source": [
    "## Métodos de string\n",
    "\n",
    "- upper: Deixa todas as letras maiúsculas\n",
    "- lower: Deixa todas as letras minúsculas\n",
    "- capitalize: Aumenta a primeira letra de cada palavra na string\n",
    "- strip: Remove os espaços entre as informações da string\n",
    "- replace: substitui uma sequência de caracteres por outra\n",
    "- split: Cria uma lista com as palavras encontradas na string\n",
    "- join: transforma uma lista em uma string com o caracter desejado de separador\n",
    "- slice: Corta a string no intervalo de caracteres fornecidos"
   ]
  },
  {
   "cell_type": "code",
   "execution_count": 11,
   "metadata": {},
   "outputs": [
    {
     "name": "stdout",
     "output_type": "stream",
     "text": [
      "GLEYDSON BRITO DA SILVA\n",
      "gleydson brito da silva\n",
      "Gleydson brito da silva\n",
      "Gleydson Brito da Silva\n",
      "Gleydson Lopes da Silva\n",
      "['Gleydson', 'Brito', 'da', 'Silva']\n",
      "G-l-e-y-d-s-o-n- -B-r-i-t-o- -d-a- -S-i-l-v-a\n",
      " Brit\n"
     ]
    }
   ],
   "source": [
    "aluno = 'Gleydson Brito da Silva'\n",
    "print(aluno.upper())\n",
    "print(aluno.lower())\n",
    "print(aluno.capitalize())\n",
    "print(aluno.strip())\n",
    "print(aluno.replace('Brito', 'Lopes'))\n",
    "print(aluno.split())\n",
    "print('-'.join(aluno))\n",
    "print(aluno[8:13])"
   ]
  },
  {
   "cell_type": "markdown",
   "metadata": {},
   "source": [
    "## Métodos de lista\n",
    "\n",
    "- append\n",
    "- extend\n",
    "- insert\n",
    "- remove\n",
    "- pop\n",
    "- index\n",
    "- del\n",
    "- sort\n",
    "- reverse"
   ]
  },
  {
   "cell_type": "code",
   "execution_count": 12,
   "metadata": {},
   "outputs": [
    {
     "name": "stdout",
     "output_type": "stream",
     "text": [
      "['notebook', 'smartphone', 'smart tv', 'fliperama']\n",
      "['notebook', 'smartphone', 'smart tv', 'fliperama', 'sofa', 'mesa', 'puff']\n",
      "['notebook', 'smartphone', 'smart tv', 'playstation 5', 'fliperama', 'sofa', 'mesa', 'puff']\n",
      "['notebook', 'smartphone', 'smart tv', 'playstation 5', 'fliperama', 'sofa', 'mesa']\n",
      "['notebook', 'smart tv', 'playstation 5', 'fliperama', 'sofa', 'mesa']\n",
      "['notebook', 'playstation 5', 'fliperama', 'sofa', 'mesa']\n",
      "['notebook', 'playstation 5', 'fliperama', 'sofa', 'mesa']\n",
      "['fliperama', 'mesa', 'notebook', 'playstation 5', 'sofa']\n",
      "['sofa', 'playstation 5', 'notebook', 'mesa', 'fliperama']\n"
     ]
    }
   ],
   "source": [
    "produtos = ['notebook', 'smartphone', 'smart tv']\n",
    "\n",
    "produtos.append('fliperama') # Adiciona um elementos ao final da lista\n",
    "print(produtos)\n",
    "produtos.extend(['sofa', 'mesa', 'puff']) # Incrementa a lista com outra lista\n",
    "print(produtos)\n",
    "produtos.insert(3, 'playstation 5') # Adiciona um novo elemento na posição específica\n",
    "print(produtos)\n",
    "produtos.pop()# remove o último elemento\n",
    "print(produtos)\n",
    "produtos.pop(1) # Remove o elemento específico da lista\n",
    "print(produtos)\n",
    "produtos.remove('smart tv') # remove a primeiroa ocorrencia encontrada da lista\n",
    "print(produtos)\n",
    "produtos.index('notebook') # retorna o indice da primeira ocorrência encontrada\n",
    "print(produtos)\n",
    "produtos.sort() # Organiza em ordem crescente a lista\n",
    "print(produtos)\n",
    "produtos.reverse() # Inverte a lista de trás para frente\n",
    "print(produtos)"
   ]
  },
  {
   "cell_type": "markdown",
   "metadata": {},
   "source": [
    "## Funções\n",
    "\n",
    "São objetos capazes de armazenar um bloco de código e depois podem ser reaproveirados em outro momento do código, comente chamando pelo seu nome.\n",
    "\n",
    "## Tipos\n",
    "\n",
    "- função sem retorno\n",
    "- função com retorno\n",
    "- função com parâmetros\n",
    "- função lambda\n",
    "- função com multipos parâmetros\n",
    "    - parâmtros posicionais\n",
    "    - parâmetros nomeados\n",
    "- funções recursivas"
   ]
  },
  {
   "cell_type": "code",
   "execution_count": 14,
   "metadata": {},
   "outputs": [],
   "source": [
    "# Função sem retorno\n",
    "def saudacao():\n",
    "    print('Hello world!')"
   ]
  },
  {
   "cell_type": "code",
   "execution_count": 15,
   "metadata": {},
   "outputs": [
    {
     "name": "stdout",
     "output_type": "stream",
     "text": [
      "Hello world!\n"
     ]
    }
   ],
   "source": [
    "# Para retornar quando não tem retorno\n",
    "saudacao()"
   ]
  },
  {
   "cell_type": "code",
   "execution_count": 19,
   "metadata": {},
   "outputs": [],
   "source": [
    "# Função com retorno\n",
    "\n",
    "def somar():\n",
    "    soma = 10 + 25\n",
    "    return soma"
   ]
  },
  {
   "cell_type": "code",
   "execution_count": 20,
   "metadata": {},
   "outputs": [
    {
     "name": "stdout",
     "output_type": "stream",
     "text": [
      "35\n"
     ]
    }
   ],
   "source": [
    "print(somar())"
   ]
  },
  {
   "cell_type": "code",
   "execution_count": 22,
   "metadata": {},
   "outputs": [],
   "source": [
    "# Função com parâmetros\n",
    "\n",
    "def somar2(numero1 , numero2):\n",
    "    soma = numero1 + numero2\n",
    "    return soma"
   ]
  },
  {
   "cell_type": "code",
   "execution_count": 23,
   "metadata": {},
   "outputs": [
    {
     "data": {
      "text/plain": [
       "13"
      ]
     },
     "execution_count": 23,
     "metadata": {},
     "output_type": "execute_result"
    }
   ],
   "source": [
    "somar2(5, 8)"
   ]
  },
  {
   "cell_type": "code",
   "execution_count": 24,
   "metadata": {},
   "outputs": [],
   "source": [
    "# Função lambda\n",
    "soma_lambda = lambda numero1, numero2 : numero1 + numero2"
   ]
  },
  {
   "cell_type": "code",
   "execution_count": 25,
   "metadata": {},
   "outputs": [
    {
     "data": {
      "text/plain": [
       "178"
      ]
     },
     "execution_count": 25,
     "metadata": {},
     "output_type": "execute_result"
    }
   ],
   "source": [
    "soma_lambda(78, 100)"
   ]
  },
  {
   "cell_type": "code",
   "execution_count": 26,
   "metadata": {},
   "outputs": [],
   "source": [
    "# função com multiplos parâmetros (argumentos) posicionais\n",
    "\n",
    "def somar3 (*numero):\n",
    "    resultado = sum(numero)\n",
    "    return resultado\n"
   ]
  },
  {
   "cell_type": "code",
   "execution_count": 27,
   "metadata": {},
   "outputs": [
    {
     "data": {
      "text/plain": [
       "101"
      ]
     },
     "execution_count": 27,
     "metadata": {},
     "output_type": "execute_result"
    }
   ],
   "source": [
    "somar3(1, 12, 25, 26, 27, 10)"
   ]
  },
  {
   "cell_type": "code",
   "execution_count": 28,
   "metadata": {},
   "outputs": [],
   "source": [
    "# Função com multiplos parâmetros nomeados\n",
    "\n",
    "def gerar_produto (**parametros):\n",
    "    produto = parametros\n",
    "    return produto\n"
   ]
  },
  {
   "cell_type": "code",
   "execution_count": 29,
   "metadata": {},
   "outputs": [
    {
     "data": {
      "text/plain": [
       "{'nome': 'notebook', 'preco': 3000.0, 'fabricante': 'sansung'}"
      ]
     },
     "execution_count": 29,
     "metadata": {},
     "output_type": "execute_result"
    }
   ],
   "source": [
    "gerar_produto(nome ='notebook', preco = 3000.00, fabricante = 'sansung')"
   ]
  },
  {
   "cell_type": "code",
   "execution_count": 32,
   "metadata": {},
   "outputs": [],
   "source": [
    "# funções recursivas \n",
    "\n",
    "\n",
    "def calcula_fatorial(numero):\n",
    "    resultado = 1\n",
    "    for i in range(1, numero + 1):\n",
    "        resultado *= i\n",
    "    return resultado"
   ]
  },
  {
   "cell_type": "code",
   "execution_count": 33,
   "metadata": {},
   "outputs": [
    {
     "data": {
      "text/plain": [
       "120"
      ]
     },
     "execution_count": 33,
     "metadata": {},
     "output_type": "execute_result"
    }
   ],
   "source": [
    "calcula_fatorial(5)"
   ]
  },
  {
   "cell_type": "code",
   "execution_count": 36,
   "metadata": {},
   "outputs": [],
   "source": [
    "def calcula_fatorial2(numero):\n",
    "    if numero == 0 or numero == 1:\n",
    "        return 1\n",
    "    else:\n",
    "        return numero * calcula_fatorial2(numero -1)"
   ]
  },
  {
   "cell_type": "code",
   "execution_count": 38,
   "metadata": {},
   "outputs": [
    {
     "name": "stdout",
     "output_type": "stream",
     "text": [
      "120\n"
     ]
    }
   ],
   "source": [
    "print(calcula_fatorial2(5))"
   ]
  }
 ],
 "metadata": {
  "interpreter": {
   "hash": "023695796a0456db28915f727eb64cb942055160ea749933aa044f2070f70f3a"
  },
  "kernelspec": {
   "display_name": "Python 3.12.5 64-bit (windows store)",
   "language": "python",
   "name": "python3"
  },
  "language_info": {
   "codemirror_mode": {
    "name": "ipython",
    "version": 3
   },
   "file_extension": ".py",
   "mimetype": "text/x-python",
   "name": "python",
   "nbconvert_exporter": "python",
   "pygments_lexer": "ipython3",
   "version": "3.12.5"
  },
  "orig_nbformat": 4
 },
 "nbformat": 4,
 "nbformat_minor": 2
}
